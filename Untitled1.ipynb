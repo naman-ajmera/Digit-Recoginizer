{
 "cells": [
  {
   "cell_type": "code",
   "execution_count": 5,
   "metadata": {},
   "outputs": [],
   "source": [
    "import tensorflow as tf\n",
    "import csv\n",
    "import numpy as np"
   ]
  },
  {
   "cell_type": "code",
   "execution_count": 21,
   "metadata": {},
   "outputs": [],
   "source": [
    "#mnist = tf.keras.datasets.mnist\n",
    "def get_data(filename):\n",
    "    with open(filename) as training_file:\n",
    "        csv_reader = csv.reader(training_file, delimiter=',')\n",
    "        first_line = True\n",
    "        temp_images = []\n",
    "        temp_labels = []\n",
    "        for row in csv_reader:\n",
    "            if first_line:\n",
    "                # print(\"Ignoring first line\")\n",
    "                first_line = False\n",
    "            else:\n",
    "                if(filename=='sign-language-mnist/train.csv'):\n",
    "                  temp_labels.append(row[0])\n",
    "                  image_data = row[1:785]\n",
    "                  image_data_as_array = np.array_split(image_data, 28)\n",
    "                  temp_images.append(image_data_as_array)\n",
    "                if(filename=='sign-language-mnist/test.csv'):\n",
    "                  temp_labels.append(row[0])\n",
    "                  image_data = row[0:784]\n",
    "                  image_data_as_array = np.array_split(image_data, 28)\n",
    "                  temp_images.append(image_data_as_array)\n",
    "        images = np.array(temp_images)\n",
    "        labels = np.array(temp_labels)\n",
    "    return images, labels\n",
    "(training_images, training_labels) = get_data('sign-language-mnist/train.csv')\n",
    "(test_images, test_labels) = get_data('sign-language-mnist/test.csv')"
   ]
  },
  {
   "cell_type": "code",
   "execution_count": 22,
   "metadata": {},
   "outputs": [
    {
     "name": "stdout",
     "output_type": "stream",
     "text": [
      "(42000, 28, 28)\n",
      "(42000,)\n",
      "(28000, 28, 28)\n",
      "(28000,)\n"
     ]
    }
   ],
   "source": [
    "#(training_images, training_labels), (test_images, test_labels) = mnist.load_data()\n",
    "print(training_images.shape)\n",
    "print(training_labels.shape)\n",
    "print(test_images.shape)\n",
    "print(test_labels.shape)"
   ]
  },
  {
   "cell_type": "code",
   "execution_count": 23,
   "metadata": {},
   "outputs": [
    {
     "name": "stdout",
     "output_type": "stream",
     "text": [
      "(42000, 28, 28, 1)\n",
      "(28000, 28, 28, 1)\n"
     ]
    },
    {
     "ename": "TypeError",
     "evalue": "ufunc 'true_divide' not supported for the input types, and the inputs could not be safely coerced to any supported types according to the casting rule ''safe''",
     "output_type": "error",
     "traceback": [
      "\u001b[1;31m---------------------------------------------------------------------------\u001b[0m",
      "\u001b[1;31mTypeError\u001b[0m                                 Traceback (most recent call last)",
      "\u001b[1;32m<ipython-input-23-55e130fa2cd0>\u001b[0m in \u001b[0;36m<module>\u001b[1;34m\u001b[0m\n\u001b[0;32m      3\u001b[0m \u001b[0mprint\u001b[0m\u001b[1;33m(\u001b[0m\u001b[0mtraining_images\u001b[0m\u001b[1;33m.\u001b[0m\u001b[0mshape\u001b[0m\u001b[1;33m)\u001b[0m\u001b[1;33m\u001b[0m\u001b[0m\n\u001b[0;32m      4\u001b[0m \u001b[0mprint\u001b[0m\u001b[1;33m(\u001b[0m\u001b[0mtest_images\u001b[0m\u001b[1;33m.\u001b[0m\u001b[0mshape\u001b[0m\u001b[1;33m)\u001b[0m\u001b[1;33m\u001b[0m\u001b[0m\n\u001b[1;32m----> 5\u001b[1;33m \u001b[0mtraining_images\u001b[0m \u001b[1;33m=\u001b[0m \u001b[0mtraining_images\u001b[0m\u001b[1;33m/\u001b[0m\u001b[1;36m255.0\u001b[0m\u001b[1;33m\u001b[0m\u001b[0m\n\u001b[0m\u001b[0;32m      6\u001b[0m \u001b[0mtest_images\u001b[0m \u001b[1;33m=\u001b[0m \u001b[0mtest_images\u001b[0m\u001b[1;33m/\u001b[0m\u001b[1;36m255.0\u001b[0m\u001b[1;33m\u001b[0m\u001b[0m\n",
      "\u001b[1;31mTypeError\u001b[0m: ufunc 'true_divide' not supported for the input types, and the inputs could not be safely coerced to any supported types according to the casting rule ''safe''"
     ]
    }
   ],
   "source": [
    "training_images = training_images.reshape(42000, 28, 28, 1)\n",
    "test_images = test_images.reshape(28000, 28, 28, 1)\n",
    "print(training_images.shape)\n",
    "print(test_images.shape)\n",
    "training_images = training_images/255.0\n",
    "test_images = test_images/255.0"
   ]
  },
  {
   "cell_type": "code",
   "execution_count": 27,
   "metadata": {},
   "outputs": [],
   "source": [
    "model = tf.keras.models.Sequential([tf.keras.layers.Conv2D(32, (3,3), input_shape=(28, 28, 1), activation='relu'),\n",
    "                                    tf.keras.layers.MaxPooling2D(2,2),\n",
    "                                    tf.keras.layers.Conv2D(64, (3,3), activation='relu'),\n",
    "                                    tf.keras.layers.MaxPooling2D(2,2),\n",
    "                                     tf.keras.layers.Conv2D(64, (3,3), activation='relu'),\n",
    "                                    tf.keras.layers.MaxPooling2D(2,2),\n",
    "                                    tf.keras.layers.Dropout(0.4),\n",
    "                                    tf.keras.layers.Flatten(),\n",
    "                            tf.keras.layers.Dense(128, activation='relu'),\n",
    "                            tf.keras.layers.Dense(10, activation='sigmoid')])"
   ]
  },
  {
   "cell_type": "code",
   "execution_count": 28,
   "metadata": {},
   "outputs": [],
   "source": [
    "model.compile(optimizer='Adam', loss='sparse_categorical_crossentropy')"
   ]
  },
  {
   "cell_type": "code",
   "execution_count": 29,
   "metadata": {},
   "outputs": [
    {
     "name": "stdout",
     "output_type": "stream",
     "text": [
      "Epoch 1/10\n",
      "42000/42000 [==============================] - 102s 2ms/sample - loss: 1.1359\n",
      "Epoch 2/10\n",
      "42000/42000 [==============================] - 99s 2ms/sample - loss: 0.2232\n",
      "Epoch 3/10\n",
      "42000/42000 [==============================] - 100s 2ms/sample - loss: 0.1659\n",
      "Epoch 4/10\n",
      "42000/42000 [==============================] - 118s 3ms/sample - loss: 0.1406\n",
      "Epoch 5/10\n",
      "42000/42000 [==============================] - 120s 3ms/sample - loss: 0.1201\n",
      "Epoch 6/10\n",
      "42000/42000 [==============================] - 111s 3ms/sample - loss: 0.1120\n",
      "Epoch 7/10\n",
      "42000/42000 [==============================] - 124s 3ms/sample - loss: 0.1027\n",
      "Epoch 8/10\n",
      "42000/42000 [==============================] - 116s 3ms/sample - loss: 0.0962\n",
      "Epoch 9/10\n",
      "42000/42000 [==============================] - 108s 3ms/sample - loss: 0.0886\n",
      "Epoch 10/10\n",
      "42000/42000 [==============================] - 103s 2ms/sample - loss: 0.0827\n"
     ]
    },
    {
     "data": {
      "text/plain": [
       "<tensorflow.python.keras.callbacks.History at 0x2c4a96585f8>"
      ]
     },
     "execution_count": 29,
     "metadata": {},
     "output_type": "execute_result"
    }
   ],
   "source": [
    "model.fit(training_images, training_labels, epochs=10)"
   ]
  },
  {
   "cell_type": "code",
   "execution_count": 30,
   "metadata": {},
   "outputs": [],
   "source": [
    "a = model.predict(test_images, verbose=0)"
   ]
  },
  {
   "cell_type": "code",
   "execution_count": 40,
   "metadata": {},
   "outputs": [
    {
     "data": {
      "text/plain": [
       "<function TextIOWrapper.close()>"
      ]
     },
     "execution_count": 40,
     "metadata": {},
     "output_type": "execute_result"
    }
   ],
   "source": [
    "with open('answer1.csv', 'w') as file:\n",
    "    myfile = csv.writer(file, delimiter=',', quotechar='\"', quoting=csv.QUOTE_MINIMAL, lineterminator='\\n')\n",
    "    myfile.writerow(['ImageId', 'Label'])\n",
    "    for i in range(0,test_labels.shape[0]):\n",
    "        myfile.writerow([i+1, np.argmax(a[i])])\n",
    "file.close"
   ]
  },
  {
   "cell_type": "code",
   "execution_count": 36,
   "metadata": {},
   "outputs": [
    {
     "data": {
      "text/plain": [
       "3"
      ]
     },
     "execution_count": 36,
     "metadata": {},
     "output_type": "execute_result"
    }
   ],
   "source": [
    "np.argmax(a[4])"
   ]
  },
  {
   "cell_type": "raw",
   "metadata": {},
   "source": [
    "np.argmax(a[4])"
   ]
  },
  {
   "cell_type": "code",
   "execution_count": null,
   "metadata": {},
   "outputs": [],
   "source": []
  }
 ],
 "metadata": {
  "kernelspec": {
   "display_name": "Python 3",
   "language": "python",
   "name": "python3"
  },
  "language_info": {
   "codemirror_mode": {
    "name": "ipython",
    "version": 3
   },
   "file_extension": ".py",
   "mimetype": "text/x-python",
   "name": "python",
   "nbconvert_exporter": "python",
   "pygments_lexer": "ipython3",
   "version": "3.7.0"
  }
 },
 "nbformat": 4,
 "nbformat_minor": 2
}
